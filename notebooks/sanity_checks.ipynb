{
  "cells": [
    {
      "cell_type": "code",
      "execution_count": null,
      "metadata": {
        "vscode": {
          "languageId": "plaintext"
        }
      },
      "outputs": [],
      "source": [
        "# Active Vision Uncertainty Reward - Sanity Checks\n",
        "\n",
        "This notebook demonstrates the basic functionality of the active vision uncertainty reward system. We'll test the entropy computation, heatmap generation, and visualization capabilities.\n",
        "\n",
        "## Overview\n",
        "\n",
        "The system implements information-theoretic uncertainty measures for active vision tasks by:\n",
        "1. Computing Shannon entropy from Vision Transformer features\n",
        "2. Generating per-pixel uncertainty heatmaps\n",
        "3. Providing viewpoint scanning capabilities for robotic vision\n",
        "\n",
        "Let's start by importing the necessary libraries and testing the core functionality.\n"
      ]
    },
    {
      "cell_type": "code",
      "execution_count": null,
      "metadata": {},
      "outputs": [],
      "source": [
        "import sys\n",
        "import os\n",
        "sys.path.append('../src')\n",
        "\n",
        "import torch\n",
        "import numpy as np\n",
        "import matplotlib.pyplot as plt\n",
        "from pathlib import Path\n",
        "\n",
        "# Import our uncertainty modules\n",
        "from uncertainty.core import rgb_entropy, save_heatmap, UncertaintyModel\n",
        "from uncertainty.scan_views import generate_synthetic_image\n",
        "\n",
        "# Set random seed for reproducibility\n",
        "torch.manual_seed(42)\n",
        "np.random.seed(42)\n",
        "\n",
        "print(\"All imports successful!\")\n",
        "print(f\"PyTorch version: {torch.__version__}\")\n",
        "print(f\"Device available: {'CUDA' if torch.cuda.is_available() else 'CPU'}\")\n"
      ]
    },
    {
      "cell_type": "code",
      "execution_count": null,
      "metadata": {},
      "outputs": [],
      "source": [
        "## Test 1: Basic Entropy Computation\n",
        "\n",
        "Let's start by testing the core entropy computation functionality with a random RGB image:\n"
      ]
    },
    {
      "cell_type": "code",
      "execution_count": null,
      "metadata": {},
      "outputs": [],
      "source": [
        "# Create a random RGB image\n",
        "rgb_tensor = torch.rand(3, 224, 224)\n",
        "print(f\"Input image shape: {rgb_tensor.shape}\")\n",
        "print(f\"Value range: [{rgb_tensor.min():.3f}, {rgb_tensor.max():.3f}]\")\n",
        "\n",
        "# Compute entropy\n",
        "entropy, heatmap = rgb_entropy(rgb_tensor)\n",
        "\n",
        "print(f\"\\nEntropy computation results:\")\n",
        "print(f\"Scalar entropy: {entropy:.4f}\")\n",
        "print(f\"Heatmap shape: {heatmap.shape}\")\n",
        "print(f\"Heatmap range: [{heatmap.min():.3f}, {heatmap.max():.3f}]\")\n",
        "print(f\"Heatmap mean: {heatmap.mean():.4f}\")\n",
        "print(f\"Heatmap std: {heatmap.std():.4f}\")\n",
        "\n",
        "# Visualize the input image and heatmap\n",
        "fig, axes = plt.subplots(1, 3, figsize=(15, 5))\n",
        "\n",
        "# Original image\n",
        "rgb_numpy = rgb_tensor.permute(1, 2, 0).numpy()\n",
        "axes[0].imshow(rgb_numpy)\n",
        "axes[0].set_title('Original Random Image')\n",
        "axes[0].axis('off')\n",
        "\n",
        "# Heatmap\n",
        "im1 = axes[1].imshow(heatmap, cmap='viridis')\n",
        "axes[1].set_title(f'Uncertainty Heatmap (entropy={entropy:.4f})')\n",
        "axes[1].axis('off')\n",
        "plt.colorbar(im1, ax=axes[1], label='Entropy')\n",
        "\n",
        "# Overlay\n",
        "axes[2].imshow(rgb_numpy)\n",
        "axes[2].imshow(heatmap, alpha=0.6, cmap='viridis')\n",
        "axes[2].set_title('Overlay')\n",
        "axes[2].axis('off')\n",
        "\n",
        "plt.tight_layout()\n",
        "plt.show()\n"
      ]
    },
    {
      "cell_type": "code",
      "execution_count": null,
      "metadata": {},
      "outputs": [],
      "source": [
        "## Test 2: Synthetic Image Generation\n",
        "\n",
        "Let's test the synthetic image generation functionality used in viewpoint scanning:\n"
      ]
    },
    {
      "cell_type": "code",
      "execution_count": null,
      "metadata": {},
      "outputs": [],
      "source": [
        "# Generate synthetic images from different viewpoints\n",
        "poses = [\n",
        "    np.array([1.0, 0.0, 0.0, 1.0, 0.0, 0.0, 0.0]),  # Front view\n",
        "    np.array([0.0, 1.0, 0.0, 1.0, 0.0, 0.0, 0.0]),  # Side view\n",
        "    np.array([-1.0, 0.0, 0.0, 1.0, 0.0, 0.0, 0.0]), # Back view\n",
        "    np.array([0.0, 0.0, 1.0, 1.0, 0.0, 0.0, 0.0])   # Top view\n",
        "]\n",
        "\n",
        "view_names = ['Front', 'Side', 'Back', 'Top']\n",
        "\n",
        "fig, axes = plt.subplots(2, 4, figsize=(16, 8))\n",
        "\n",
        "for i, (pose, name) in enumerate(zip(poses, view_names)):\n",
        "    # Generate synthetic image\n",
        "    synthetic_image = generate_synthetic_image(pose)\n",
        "    \n",
        "    # Compute entropy\n",
        "    entropy, heatmap = rgb_entropy(synthetic_image)\n",
        "    \n",
        "    # Convert to numpy for visualization\n",
        "    image_numpy = synthetic_image.permute(1, 2, 0).numpy()\n",
        "    \n",
        "    # Plot original image\n",
        "    axes[0, i].imshow(image_numpy)\n",
        "    axes[0, i].set_title(f'{name} View\\nPose: ({pose[0]:.1f}, {pose[1]:.1f}, {pose[2]:.1f})')\n",
        "    axes[0, i].axis('off')\n",
        "    \n",
        "    # Plot heatmap\n",
        "    im = axes[1, i].imshow(heatmap, cmap='viridis')\n",
        "    axes[1, i].set_title(f'Entropy: {entropy:.4f}')\n",
        "    axes[1, i].axis('off')\n",
        "    \n",
        "    print(f\"{name} view - Entropy: {entropy:.4f}\")\n",
        "\n",
        "plt.tight_layout()\n",
        "plt.show()\n"
      ]
    },
    {
      "cell_type": "code",
      "execution_count": null,
      "metadata": {},
      "outputs": [],
      "source": [
        "## Summary\n",
        "\n",
        "This notebook successfully demonstrated:\n",
        "\n",
        "1. **Core Entropy Computation**: The `rgb_entropy` function correctly computes Shannon entropy from RGB images using Vision Transformer features and returns both scalar entropy values and spatial heatmaps.\n",
        "\n",
        "2. **Heatmap Generation**: The uncertainty heatmaps show meaningful spatial patterns of uncertainty across the image, with values properly normalized and finite.\n",
        "\n",
        "3. **Synthetic Image Generation**: The viewpoint-dependent synthetic image generation creates visually distinct images based on camera poses, enabling systematic testing of the uncertainty computation.\n",
        "\n",
        "4. **End-to-End Workflow**: The complete pipeline from image generation to entropy computation to visualization works as expected.\n",
        "\n",
        "The system is ready for integration with RLBench and deployment in active vision scenarios. The entropy values and heatmaps provide meaningful uncertainty information that can guide robotic vision systems in selecting optimal viewpoints.\n"
      ]
    }
  ],
  "metadata": {
    "language_info": {
      "name": "python"
    }
  },
  "nbformat": 4,
  "nbformat_minor": 2
}
